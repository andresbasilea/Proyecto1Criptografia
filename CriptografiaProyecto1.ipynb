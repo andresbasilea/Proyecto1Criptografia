{
 "cells": [
  {
   "cell_type": "code",
   "execution_count": null,
   "metadata": {},
   "outputs": [],
   "source": [
    "# pip install pycryptodomex"
   ]
  },
  {
   "cell_type": "code",
   "execution_count": null,
   "metadata": {},
   "outputs": [],
   "source": [
    "# pip install pycryptodome"
   ]
  },
  {
   "cell_type": "code",
   "execution_count": 29,
   "metadata": {
    "scrolled": true
   },
   "outputs": [
    {
     "name": "stdout",
     "output_type": "stream",
     "text": [
      "Collecting scrypt\n",
      "  Downloading scrypt-0.8.20-cp37-cp37m-win_amd64.whl (40 kB)\n",
      "Installing collected packages: scrypt\n",
      "Successfully installed scrypt-0.8.20\n",
      "Note: you may need to restart the kernel to use updated packages.\n"
     ]
    },
    {
     "name": "stderr",
     "output_type": "stream",
     "text": [
      "WARNING: You are using pip version 21.3.1; however, version 23.1.2 is available.\n",
      "You should consider upgrading via the 'c:\\users\\andre\\appdata\\local\\programs\\python\\python37\\python.exe -m pip install --upgrade pip' command.\n"
     ]
    }
   ],
   "source": [
    "pip install scrypt"
   ]
  },
  {
   "cell_type": "code",
   "execution_count": 84,
   "metadata": {
    "scrolled": false
   },
   "outputs": [
    {
     "name": "stdout",
     "output_type": "stream",
     "text": [
      "Requirement already satisfied: cryptography==3.3.2 in c:\\users\\andre\\appdata\\local\\programs\\python\\python37\\lib\\site-packages (3.3.2)\n",
      "Requirement already satisfied: six>=1.4.1 in c:\\users\\andre\\appdata\\local\\programs\\python\\python37\\lib\\site-packages (from cryptography==3.3.2) (1.14.0)\n",
      "Requirement already satisfied: cffi>=1.12 in c:\\users\\andre\\appdata\\local\\programs\\python\\python37\\lib\\site-packages (from cryptography==3.3.2) (1.15.1)\n",
      "Requirement already satisfied: pycparser in c:\\users\\andre\\appdata\\local\\programs\\python\\python37\\lib\\site-packages (from cffi>=1.12->cryptography==3.3.2) (2.19)\n",
      "Note: you may need to restart the kernel to use updated packages.\n"
     ]
    },
    {
     "name": "stderr",
     "output_type": "stream",
     "text": [
      "WARNING: Ignoring invalid distribution -ffi (c:\\users\\andre\\appdata\\local\\programs\\python\\python37\\lib\\site-packages)\n",
      "WARNING: Ignoring invalid distribution -ffi (c:\\users\\andre\\appdata\\local\\programs\\python\\python37\\lib\\site-packages)\n"
     ]
    }
   ],
   "source": [
    "pip install cryptography==3.3.2"
   ]
  },
  {
   "cell_type": "code",
   "execution_count": 64,
   "metadata": {},
   "outputs": [
    {
     "name": "stdout",
     "output_type": "stream",
     "text": [
      "Requirement already satisfied: cffi in c:\\users\\andre\\appdata\\local\\programs\\python\\python37\\lib\\site-packages (1.15.1)\n",
      "Requirement already satisfied: pycparser in c:\\users\\andre\\appdata\\local\\programs\\python\\python37\\lib\\site-packages (from cffi) (2.19)\n",
      "Note: you may need to restart the kernel to use updated packages.\n"
     ]
    },
    {
     "name": "stderr",
     "output_type": "stream",
     "text": [
      "WARNING: Ignoring invalid distribution -ffi (c:\\users\\andre\\appdata\\local\\programs\\python\\python37\\lib\\site-packages)\n",
      "WARNING: Ignoring invalid distribution -ffi (c:\\users\\andre\\appdata\\local\\programs\\python\\python37\\lib\\site-packages)\n"
     ]
    }
   ],
   "source": [
    "pip install cffi"
   ]
  },
  {
   "cell_type": "code",
   "execution_count": 49,
   "metadata": {},
   "outputs": [],
   "source": [
    "import os # Para llaves\n",
    "\n",
    "from cryptography.hazmat.primitives.ciphers import Cipher, algorithms, modes\n",
    "from cryptography.hazmat.primitives.ciphers.aead import AESGCM\n",
    "from cryptography.hazmat.primitives.asymmetric import rsa, padding\n",
    "from cryptography.hazmat.primitives import hashes\n",
    "from cryptography.hazmat.backends import default_backend\n",
    "from cryptography.hazmat.primitives.asymmetric import ec\n",
    "from cryptography.hazmat.primitives.asymmetric.ed25519 import Ed25519PrivateKey, Ed25519PublicKey\n",
    "\n",
    "from Crypto.Hash import SHA3_512\n",
    "\n",
    "# SHA-2 y 3\n",
    "import hashlib\n",
    "\n",
    "# Scrypt\n",
    "import scrypt\n",
    "\n"
   ]
  },
  {
   "cell_type": "code",
   "execution_count": 41,
   "metadata": {},
   "outputs": [
    {
     "name": "stdout",
     "output_type": "stream",
     "text": [
      "Plaintext:  b'Hola, mundo!'\n",
      "Ciphertext:  3ed78ccc8cd150e52e3905c4\n",
      "Decrypted Text:  b'Hola, mundo!'\n"
     ]
    }
   ],
   "source": [
    "# Chacha20\n",
    "\n",
    "# Usada en Chacha20, AES-ECB\n",
    "key = os.urandom(32)\n",
    "nonce = os.urandom(16)\n",
    "\n",
    "key = bytes.fromhex('0000000000000000000000000000000000000000000000000000000000000000')\n",
    "nonce = bytes.fromhex('00000000000000000000000000000000')\n",
    "\n",
    "\n",
    "plaintext = b'Hola, mundo!'\n",
    "\n",
    "# Create a ChaCha20 cipher object\n",
    "chacha = Cipher(algorithms.ChaCha20(key, nonce), mode=None, backend=default_backend())\n",
    "\n",
    "# Create a ChaCha20 encryptor object\n",
    "encryptor = chacha.encryptor()\n",
    "\n",
    "# Encrypt plaintext\n",
    "\n",
    "ciphertext = encryptor.update(plaintext)\n",
    "\n",
    "# Create a ChaCha20 decryptor object\n",
    "decryptor = chacha.decryptor()\n",
    "\n",
    "# Decrypt ciphertext\n",
    "decrypted_text = decryptor.update(ciphertext)\n",
    "\n",
    "print(\"Plaintext: \", plaintext)\n",
    "print(\"Ciphertext: \", ciphertext.hex())\n",
    "print(\"Decrypted Text: \", decrypted_text)\n"
   ]
  },
  {
   "cell_type": "code",
   "execution_count": 52,
   "metadata": {},
   "outputs": [
    {
     "name": "stdout",
     "output_type": "stream",
     "text": [
      "Plaintext:  b'\\x00\\x00\\x00\\x00\\x00\\x00\\x00\\x00\\x00\\x00\\x00\\x00\\x00\\x00\\x00\\x00'\n",
      "Ciphertext:  46f2fb342d6f0ab477476fc501242c5f\n",
      "Decrypted Text:  b'\\x00\\x00\\x00\\x00\\x00\\x00\\x00\\x00\\x00\\x00\\x00\\x00\\x00\\x00\\x00\\x00'\n"
     ]
    }
   ],
   "source": [
    "# AES - ECB\n",
    "\n",
    "key = bytes.fromhex('c47b0294dbbbee0fec4757f22ffeee3587ca4730c3d33b691df38bab076bc558')\n",
    "plaintext = bytes.fromhex('00000000000000000000000000000000')\n",
    "\n",
    "aes_cipher = Cipher(algorithms.AES(key), mode=modes.ECB(), backend=default_backend())\n",
    "encryptor = aes_cipher.encryptor()\n",
    "\n",
    "ciphertext = encryptor.update(plaintext)\n",
    "decryptor = aes_cipher.decryptor()\n",
    "decrypted_text = decryptor.update(ciphertext)\n",
    "\n",
    "print(\"Plaintext: \", plaintext)\n",
    "print(\"Ciphertext: \", ciphertext.hex())\n",
    "print(\"Decrypted Text: \", decrypted_text)"
   ]
  },
  {
   "cell_type": "code",
   "execution_count": 37,
   "metadata": {},
   "outputs": [
    {
     "name": "stdout",
     "output_type": "stream",
     "text": [
      "Plaintext:  b'\\xd912%\\xf8\\x84\\x06\\xe5\\xa5Y\\t\\xc5\\xaf\\xf5&\\x9a\\x86\\xa7\\xa9S\\x154\\xf7\\xda.L0=\\x8a1\\x8ar\\x1c<\\x0c\\x95\\x95h\\tS/\\xcf\\x0e$I\\xa6\\xb5%\\xb1j\\xed\\xf5\\xaa\\r\\xe6W\\xbac{9'\n",
      "Ciphertext:  c11e70227a72b9a9191300ec1484801d8209c4e59f2434109ef944b3c371cb807eba81c53e6a2762b9b152e431c9518fa92602e691ef6031dfe5c6cfddf1a480514e2d70af533d06715fa1d3\n",
      "Decrypted Text:  d9313225f88406e5a55909c5aff5269a86a7a9531534f7da2e4c303d8a318a721c3c0c95956809532fcf0e2449a6b525b16aedf5aa0de657ba637b39\n"
     ]
    }
   ],
   "source": [
    "\n",
    "# AES - GCM\n",
    "\n",
    "key = bytes.fromhex('c47b0294dbbbee0fec4757f22ffeee3587ca4730c3d33b691df38bab076bc558')\n",
    "plaintext = bytes.fromhex('d9313225f88406e5a55909c5aff5269a86a7a9531534f7da2e4c303d8a318a721c3c0c95956809532fcf0e2449a6b525b16aedf5aa0de657ba637b39')\n",
    "nonce = bytes.fromhex('00000000000000000000000000000000')\n",
    "\n",
    "aesgcm_cipher = AESGCM(key)\n",
    "\n",
    "# Encrypt plaintext\n",
    "# plaintext = b'Hello, world!'\n",
    "ciphertext = aesgcm_cipher.encrypt(nonce, plaintext, associated_data=None)\n",
    "\n",
    "# Decrypt ciphertext\n",
    "decrypted_text = aesgcm_cipher.decrypt(nonce, ciphertext, associated_data=None)\n",
    "\n",
    "print(\"Plaintext: \", plaintext)\n",
    "print(\"Ciphertext: \", ciphertext.hex())\n",
    "print(\"Decrypted Text: \", decrypted_text.hex())\n"
   ]
  },
  {
   "cell_type": "code",
   "execution_count": 46,
   "metadata": {},
   "outputs": [
    {
     "name": "stdout",
     "output_type": "stream",
     "text": [
      "3f3d2c850019f53fbba5d079729b09a4a46d036e235600f31b0fe938630e47d7caf720b087fe2b4d971cfd3e56417916b09de28af3ac1c4aba516259770ccf83\n"
     ]
    }
   ],
   "source": [
    "\n",
    "\n",
    "# SHA - 2   512\n",
    "\n",
    "sha512 = hashlib.sha512()\n",
    "\n",
    "# Update the hash object with your message\n",
    "message = b'To see a World in a Grain of Sand'\n",
    "sha512.update(message)\n",
    "\n",
    "# Get the digest of the hash object (i.e. the hash value)\n",
    "hash_value = sha512.digest()\n",
    "\n",
    "# Print the hash value as a hexadecimal string\n",
    "hex_hash_value = hash_value.hex()\n",
    "print(hex_hash_value)\n"
   ]
  },
  {
   "cell_type": "code",
   "execution_count": 47,
   "metadata": {},
   "outputs": [
    {
     "name": "stdout",
     "output_type": "stream",
     "text": [
      "d2ea67ff3dfbdce67e2be62aa8cde15c5d0ebd11da7776e3ac08e36a41c6a938d9d71cb37b8c19007257e61eba74e17d57d4cf9b90d62e0feeb59c652d9cd6f5\n"
     ]
    }
   ],
   "source": [
    "\n",
    "# SHA - 3   512\n",
    "\n",
    "sha3_512 = SHA3_512.new()\n",
    "\n",
    "# Update the hash object with your message\n",
    "message = b'To see a World in a Grain of Sand'\n",
    "sha3_512.update(message)\n",
    "\n",
    "# Get the digest of the hash object (i.e. the hash value)\n",
    "hash_value = sha3_512.digest()\n",
    "\n",
    "# Print the hash value as a hexadecimal string\n",
    "hex_hash_value = hash_value.hex()\n",
    "print(hex_hash_value)"
   ]
  },
  {
   "cell_type": "code",
   "execution_count": 51,
   "metadata": {},
   "outputs": [
    {
     "name": "stdout",
     "output_type": "stream",
     "text": [
      "e2afc360fe91132d41aa4057cb82d8f22866f79058cdb31498ab4ace50a8ec52\n",
      "0193887b\n"
     ]
    }
   ],
   "source": [
    "# Scrypt\n",
    "\n",
    "password = b'abcdbcdecdefdefgefghfghighijhijkijkljklmklmnlmnomnopnopq'\n",
    "salt = b'NaCl'\n",
    "N = 2 ** 14\n",
    "r = 8\n",
    "p = 1\n",
    "dk_len = 32\n",
    "\n",
    "# Generate the derived key using Scrypt\n",
    "dk = scrypt.hash(password, salt, N, r, p, dk_len)\n",
    "\n",
    "# Print the derived key as a hexadecimal string\n",
    "hex_dk = dk.hex()\n",
    "print(hex_dk)\n",
    "\n",
    "# # Extract a 32-bit key from the derived key using SHA-256\n",
    "# sha256 = hashlib.sha256()\n",
    "# sha256.update(dk)\n",
    "# key = sha256.digest()[:4]\n",
    "\n",
    "# # Print the key as a hexadecimal string\n",
    "# hex_key = key.hex()\n",
    "# print(hex_key)"
   ]
  },
  {
   "cell_type": "code",
   "execution_count": 9,
   "metadata": {},
   "outputs": [
    {
     "name": "stdout",
     "output_type": "stream",
     "text": [
      "Original message:  b'hello world'\n",
      "Ciphertext:  b'mH\\x1b\\x9d\\x8d\\xc4)K\\xc1\\xa2:\\xbd\\x01\\xfa\\xcc\\x02\\x90qI?\\xcf}A\\x8e/,g\\x15\\xc9\\xdfU\\xc9N\\x85\\xce\\x11\\xd4\\xe07\\xd5\\x95\\x92\\x85\\xc4\\x81P\\x12\\x1f:\\xb1\\x87`\\x93\\xccd\\xf9\\x99\\xdfx \\'\\xfa/\\xc6?~\\x04\\xc6.\\xc6\\xb3C\\xa1y\\xbe\\x1b\\xb6iK\\xe72P\\xc8nl\\xb4\\x8d=\\x16\\xdf\\xc9y\\xa4\\xd8\\x9d\\xad\\x11\\xf8+\\xc0\\x00\\xf2}k!\\xd8Q\\xb6\\xf58i\\x92Lj\\xa3\\xbc \\x92\\xfe]\\xef\\xf8eF#h\\xe0\\x8e\\x9f\\xaa\\xbe\\xb6*4v\\xa3\\xcb=W\\x14x\\x1f#\\xe1\\x1d\\xe8\\xa2\\xd4\\x0cE\\x03\\xea\\xb4\\xcbiu\"\\xb9\\xaf\\x1a\\xc8ea\\xf2-\\xd72\\xb9<ec\\r,\\xa3\\x0cu\\xf7\\xf1\\xe7Q\\xd9\\x84\\xf6\\xdf\\xc7\\xe5\\xfd\\xd1\\xac\\xc7\\xf6\\xc0\\xbc\\x9e\\xb4\\x15sH\\xc3\\xb1\\xb7$\\xba\\xf5(y%\\xfb\\xca\\x19\\xcc^!\\xba\\xc6\\x00Y\\xdb\\x972\\xeeoIy\\xb8\\xff\\xb0\\xb7{\\xafi$\\x99\\x9c\\x8eQ\\xe6!\\x8a\\x89\\x13\\xe0\\xd6\\xee8\\x19X\\xca\\x12\\x9dP\\x9e~\\xbc\\x88\\x03'\n",
      "Decrypted plaintext:  b'hello world'\n"
     ]
    }
   ],
   "source": [
    "\n",
    "# RSA - OAEP 2048 bits\n",
    "\n",
    "# Generate a new RSA key pair with a key size of 2048 bits\n",
    "private_key = rsa.generate_private_key(\n",
    "    public_exponent=65537,\n",
    "    key_size=2048,\n",
    "    backend=default_backend()\n",
    ")\n",
    "public_key = private_key.public_key()\n",
    "\n",
    "# Encrypt a message using the public key\n",
    "message = b\"hello world\"\n",
    "ciphertext = public_key.encrypt(\n",
    "    message,\n",
    "    padding.OAEP(\n",
    "        mgf=padding.MGF1(algorithm=hashes.SHA256()),\n",
    "        algorithm=hashes.SHA256(),\n",
    "        label=None\n",
    "    )\n",
    ")\n",
    "\n",
    "# Decrypt the ciphertext using the private key\n",
    "plaintext = private_key.decrypt(\n",
    "    ciphertext,\n",
    "    padding.OAEP(\n",
    "        mgf=padding.MGF1(algorithm=hashes.SHA256()),\n",
    "        algorithm=hashes.SHA256(),\n",
    "        label=None\n",
    "    )\n",
    ")\n",
    "\n",
    "# Print the results\n",
    "print(\"Original message: \", message)\n",
    "print(\"Ciphertext: \", ciphertext)\n",
    "print(\"Decrypted plaintext: \", plaintext)\n"
   ]
  },
  {
   "cell_type": "code",
   "execution_count": 10,
   "metadata": {},
   "outputs": [
    {
     "name": "stdout",
     "output_type": "stream",
     "text": [
      "Signature is valid\n"
     ]
    }
   ],
   "source": [
    "\n",
    "# RSA - PSS 2048\n",
    "\n",
    "# Generate a new RSA key pair with a key size of 2048 bits\n",
    "private_key = rsa.generate_private_key(\n",
    "    public_exponent=65537,\n",
    "    key_size=2048,\n",
    "    backend=default_backend()\n",
    ")\n",
    "public_key = private_key.public_key()\n",
    "\n",
    "# Sign a message using the private key and RSA-PSS signature padding\n",
    "message = b\"hello world\"\n",
    "signature = private_key.sign(\n",
    "    message,\n",
    "    padding.PSS(\n",
    "        mgf=padding.MGF1(hashes.SHA256()),\n",
    "        salt_length=padding.PSS.MAX_LENGTH\n",
    "    ),\n",
    "    hashes.SHA256()\n",
    ")\n",
    "\n",
    "# Verify the signature using the public key and RSA-PSS signature padding\n",
    "try:\n",
    "    public_key.verify(\n",
    "        signature,\n",
    "        message,\n",
    "        padding.PSS(\n",
    "            mgf=padding.MGF1(hashes.SHA256()),\n",
    "            salt_length=padding.PSS.MAX_LENGTH\n",
    "        ),\n",
    "        hashes.SHA256()\n",
    "    )\n",
    "    print(\"Signature is valid\")\n",
    "except:\n",
    "    print(\"Signature is invalid\")"
   ]
  },
  {
   "cell_type": "code",
   "execution_count": 11,
   "metadata": {},
   "outputs": [
    {
     "name": "stdout",
     "output_type": "stream",
     "text": [
      "Signature is valid\n"
     ]
    }
   ],
   "source": [
    "\n",
    "\n",
    "# EC DSA\n",
    "\n",
    "# Generate a new EC key pair with a curve size of 521 bits (P-521)\n",
    "private_key = ec.generate_private_key(\n",
    "    ec.SECP521R1(),\n",
    "    backend=default_backend()\n",
    ")\n",
    "public_key = private_key.public_key()\n",
    "\n",
    "# Sign a message using the private key and ECDSA signature algorithm\n",
    "message = b\"hello world\"\n",
    "signature = private_key.sign(\n",
    "    message,\n",
    "    ec.ECDSA(hashes.SHA256())\n",
    ")\n",
    "\n",
    "# Verify the signature using the public key and ECDSA signature algorithm\n",
    "try:\n",
    "    public_key.verify(\n",
    "        signature,\n",
    "        message,\n",
    "        ec.ECDSA(hashes.SHA256())\n",
    "    )\n",
    "    print(\"Signature is valid\")\n",
    "except:\n",
    "    print(\"Signature is invalid\")"
   ]
  },
  {
   "cell_type": "code",
   "execution_count": 12,
   "metadata": {
    "scrolled": false
   },
   "outputs": [
    {
     "name": "stdout",
     "output_type": "stream",
     "text": [
      "Signature is valid\n"
     ]
    }
   ],
   "source": [
    "\n",
    "# ed25519\n",
    "\n",
    "# Generate a new Ed25519 key pair\n",
    "private_key = Ed25519PrivateKey.generate()\n",
    "public_key = private_key.public_key()\n",
    "\n",
    "# Sign a message using the private key and Ed25519 signature algorithm\n",
    "message = b\"hello world\"\n",
    "signature = private_key.sign(message)\n",
    "\n",
    "# Verify the signature using the public key and Ed25519 signature algorithm\n",
    "try:\n",
    "    public_key.verify(\n",
    "        signature,\n",
    "        message\n",
    "    )\n",
    "    print(\"Signature is valid\")\n",
    "except:\n",
    "    print(\"Signature is invalid\")\n"
   ]
  },
  {
   "cell_type": "code",
   "execution_count": 13,
   "metadata": {},
   "outputs": [
    {
     "ename": "ImportError",
     "evalue": "cannot import name 'Ed25519' from 'Cryptodome.PublicKey' (c:\\users\\andre\\appdata\\local\\programs\\python\\python37\\lib\\site-packages\\Cryptodome\\PublicKey\\__init__.py)",
     "output_type": "error",
     "traceback": [
      "\u001b[1;31m---------------------------------------------------------------------------\u001b[0m",
      "\u001b[1;31mImportError\u001b[0m                               Traceback (most recent call last)",
      "\u001b[1;32m~\\AppData\\Local\\Temp/ipykernel_6400/3548202008.py\u001b[0m in \u001b[0;36m<module>\u001b[1;34m\u001b[0m\n\u001b[0;32m     49\u001b[0m \u001b[1;32mfrom\u001b[0m \u001b[0mnacl\u001b[0m\u001b[1;33m.\u001b[0m\u001b[0mencoding\u001b[0m \u001b[1;32mimport\u001b[0m \u001b[0mHexEncoder\u001b[0m\u001b[1;33m\u001b[0m\u001b[0m\n\u001b[0;32m     50\u001b[0m \u001b[1;32mfrom\u001b[0m \u001b[0mnacl\u001b[0m\u001b[1;33m.\u001b[0m\u001b[0msigning\u001b[0m \u001b[1;32mimport\u001b[0m \u001b[0mSigningKey\u001b[0m\u001b[1;33m\u001b[0m\u001b[0m\n\u001b[1;32m---> 51\u001b[1;33m \u001b[1;32mfrom\u001b[0m \u001b[0mCryptodome\u001b[0m\u001b[1;33m.\u001b[0m\u001b[0mPublicKey\u001b[0m \u001b[1;32mimport\u001b[0m \u001b[0mEd25519\u001b[0m\u001b[1;33m\u001b[0m\u001b[0m\n\u001b[0m\u001b[0;32m     52\u001b[0m \u001b[1;32mfrom\u001b[0m \u001b[0mCryptodome\u001b[0m\u001b[1;33m.\u001b[0m\u001b[0mSignature\u001b[0m \u001b[1;32mimport\u001b[0m \u001b[0mEd25519ph\u001b[0m\u001b[1;33m\u001b[0m\u001b[0m\n\u001b[0;32m     53\u001b[0m \u001b[1;32mfrom\u001b[0m \u001b[0mCrypto\u001b[0m\u001b[1;33m.\u001b[0m\u001b[0mHash\u001b[0m \u001b[1;32mimport\u001b[0m \u001b[0mSHA512\u001b[0m\u001b[1;33m\u001b[0m\u001b[0m\n",
      "\u001b[1;31mImportError\u001b[0m: cannot import name 'Ed25519' from 'Cryptodome.PublicKey' (c:\\users\\andre\\appdata\\local\\programs\\python\\python37\\lib\\site-packages\\Cryptodome\\PublicKey\\__init__.py)"
     ]
    }
   ],
   "source": [
    "#pip install pycryptodomex\n",
    "#pip install cryptography\n",
    "#pip install pycryptodome\n",
    "#pip install pynacl\n",
    "\n",
    "# Proyecto 1: Criptografía\n",
    "\n",
    "\n",
    "# Each algorithm is used for some goal; therefore, you need to compare only the ones that\n",
    "# share such a goal. For example, if you want to compare hashing algorithms you compare\n",
    "# the efficiency of SHA-2 and SHA-3 by using the same input testing vector.\n",
    "\n",
    "# Following this idea, you need to create a table or a graph comparing the efficiency of these\n",
    "# algorithms for the following operations:\n",
    "#    Encryption\n",
    "#    Decryption\n",
    "#    Hashing\n",
    "#    Signing\n",
    "#    Verifying\n",
    "\n",
    "# After the execution of your program, you should show the results for each operation. These\n",
    "# should be presented using a visual component (i.e., a table, a graph). Coming back to the\n",
    "# hashing example, after the execution of all hashing algorithms with all the hashing vectors,\n",
    "# you could show a table similar to the following or a graph that can show your results.\n",
    "\n",
    "\n",
    "# Chacha20 Key Size 256 bits\n",
    "# AES-EBC Key Size 256 bits\n",
    "# AES-GCM Key size 256 bits\n",
    "# SHA-2 Hash size 512 bits\n",
    "# SHA-3 Hash size 512 bits\n",
    "# Scrypt Output size 32 bits\n",
    "# RSA-OAEP 2048 bits\n",
    "# RSA-PSS 2048 bits\n",
    "# ECDSA ECDSA, 521 Bits (P-521)\n",
    "# EdDSA ECDSA, 32 Bits (Curve25519)\n",
    "\n",
    "import os # Para llaves\n",
    "\n",
    "from cryptography.hazmat.primitives.ciphers import Cipher, algorithms, modes\n",
    "from cryptography.hazmat.primitives.ciphers.aead import AESGCM\n",
    "from cryptography.hazmat.primitives.asymmetric import rsa, padding\n",
    "from cryptography.hazmat.primitives import hashes\n",
    "from cryptography.hazmat.backends import default_backend\n",
    "from cryptography.hazmat.primitives.asymmetric import ec\n",
    "from cryptography.hazmat.primitives.asymmetric.ed25519 import Ed25519PrivateKey, Ed25519PublicKey\n",
    "\n",
    "from Crypto.Hash import SHA3_512\n",
    "\n",
    "# SHA-2 y 3\n",
    "import hashlib\n",
    "\n",
    "# Scrypt\n",
    "import scrypt\n",
    "\n",
    "\n",
    "\n",
    "# Chacha20 Key Size 256 bits\n",
    "def chacha20_encrypt(key, plaintext):\n",
    "    cipher = ChaCha20.new(key=key)\n",
    "    ciphertext = cipher.encrypt(plaintext)\n",
    "    return ciphertext\n",
    "\n",
    "def chacha20_decrypt(key, ciphertext):\n",
    "    cipher = ChaCha20.new(key=key)\n",
    "    plaintext = cipher.decrypt(ciphertext)\n",
    "    return plaintext\n",
    "\n",
    "# AES-EBC Key Size 256 bits\n",
    "def aes_ecb_encrypt(key, plaintext):\n",
    "    cipher = AES.new(key, AES.MODE_ECB)\n",
    "    ciphertext = cipher.encrypt(plaintext)\n",
    "    return ciphertext\n",
    "\n",
    "def aes_ecb_decrypt(key, ciphertext):\n",
    "    cipher = AES.new(key, AES.MODE_ECB)\n",
    "    plaintext = cipher.decrypt(ciphertext)\n",
    "    return plaintext\n",
    "\n",
    "# AES-GCM Key size 256 bits\n",
    "def aes_gcm_encrypt(key, plaintext):\n",
    "    cipher = AES.new(key, AES.MODE_GCM)\n",
    "    ciphertext, tag = cipher.encrypt_and_digest(plaintext)\n",
    "    return ciphertext, tag, cipher.nonce\n",
    "\n",
    "def aes_gcm_decrypt(key, ciphertext, tag, nonce):\n",
    "    cipher = AES.new(key, AES.MODE_GCM, nonce=nonce)\n",
    "    plaintext = cipher.decrypt_and_verify(ciphertext, tag)\n",
    "    return plaintext\n",
    "\n",
    "# SHA-2 Hash size 512 bits\n",
    "def sha256_hash(message):\n",
    "    hash_object = SHA256.new(data=message)\n",
    "    return hash_object.digest()\n",
    "\n",
    "# SHA-3 Hash size 512 bits\n",
    "def sha3_512_hash(message):\n",
    "    hash_object = SHA3_512.new(data=message)\n",
    "    return hash_object.digest()\n",
    "\n",
    "# Scrypt Output size 32 bits\n",
    "def scrypt_key(password, salt):\n",
    "    key = scrypt(password, salt, key_len=32, N=16384, r=8, p=1)\n",
    "    return key\n",
    "\n",
    "# Generar un par de claves RSA\n",
    "def keys_rsa(public_exponent=65537,key_size=2048):\n",
    "  private_key = rsa.generate_private_key(public_exponent,key_size)\n",
    "  public_key = private_key.public_key()\n",
    "  return private_key,public_key\n",
    "\n",
    "# Cifrar un mensaje con RSA-OAEP\n",
    "def rsa_oaep_encrypt(message, public_key):\n",
    "  ciphertext = public_key.encrypt(message, padding.OAEP(mgf=padding.MGF1(algorithm=hashes.SHA256()), algorithm=hashes.SHA256(), label=None))\n",
    "  return ciphertext\n",
    "\n",
    "# Descifrar el mensaje con RSA-OAEP\n",
    "def rsa_oaep_decrypt(ciphertext, private_key):\n",
    "  decrypted_message = private_key.decrypt(ciphertext, padding.OAEP(mgf=padding.MGF1(algorithm=hashes.SHA256()),algorithm=hashes.SHA256(), label=None))\n",
    "  return decrypted_message  \n",
    "\n",
    "# Firmar un mensaje con RSA-PSS\n",
    "def rsa_pss_sign(message, private_key):\n",
    "    signature = private_key.sign(message, padding.PSS(mgf=padding.MGF1(hashes.SHA256()), salt_length=padding.PSS.MAX_LENGTH), hashes.SHA256())\n",
    "\n",
    "# Verificar la firma con RSA-PSS\n",
    "def rsa_pss_verify_sign(message, signature, public_key):\n",
    "    try:\n",
    "        public_key.verify(signature, message, padding.PSS(mgf=padding.MGF1(hashes.SHA256()),salt_length=padding.PSS.MAX_LENGTH),hashes.SHA256())\n",
    "        print(\"Firma válida.\")\n",
    "    except InvalidSignature:\n",
    "        print(\"Firma no válida.\")\n",
    "\n",
    "# Generar un par de claves ECDSA\n",
    "def keys_ecdsa():\n",
    "    private_key = ec.generate_private_key(ec.SECP521R1()) # también conocido como prime256v1 o P-256\n",
    "    public_key = private_key.public_key()\n",
    "    return private_key, public_key\n",
    "\n",
    "# Firmar un mensaje con ECDSA\n",
    "def ecdsa_sign(message, private_key):\n",
    "    signature = private_key.sign(message, ec.ECDSA(hashes.SHA256()))\n",
    "    return signature\n",
    "\n",
    "# Verificar la firma con ECDSA\n",
    "def ecdsa_verify_sign(message, signature, public_key):\n",
    "    try:\n",
    "        public_key.verify(signature, message, ec.ECDSA(hashes.SHA256()))\n",
    "        print(\"Firma válida.\")\n",
    "    except InvalidSignature:\n",
    "        print(\"Firma no válida.\")\n",
    "\n",
    "# Generar un par de claves EdDSA\n",
    "def keys_eddsa():\n",
    "    key = Ed25519.generate()\n",
    "    private_key = key.signing_key\n",
    "    public_key = key.verifying_key\n",
    "    return private_key, public_key\n",
    "\n",
    "# Firmar un mensaje con EdDSA\n",
    "def eddsa_sign(message, private_key):\n",
    "    hash_object = SHA512.new(message)\n",
    "    signature = private_key.sign(hash_object)\n",
    "    return signature\n",
    "\n",
    "# Verificar la firma con EdDSA\n",
    "def eddsa_verify_sign(message, signature, public_key):\n",
    "    try:\n",
    "        hash_object = SHA512.new(message)\n",
    "        public_key.verify(signature, hash_object)\n",
    "        print(\"Firma válida.\")\n",
    "    except ValueError:\n",
    "        print(\"Firma no válida.\")\n",
    "\n"
   ]
  },
  {
   "cell_type": "code",
   "execution_count": null,
   "metadata": {},
   "outputs": [],
   "source": []
  }
 ],
 "metadata": {
  "kernelspec": {
   "display_name": "Python 3 (ipykernel)",
   "language": "python",
   "name": "python3"
  },
  "language_info": {
   "codemirror_mode": {
    "name": "ipython",
    "version": 3
   },
   "file_extension": ".py",
   "mimetype": "text/x-python",
   "name": "python",
   "nbconvert_exporter": "python",
   "pygments_lexer": "ipython3",
   "version": "3.7.0"
  }
 },
 "nbformat": 4,
 "nbformat_minor": 2
}
