{
 "cells": [
  {
   "cell_type": "code",
   "execution_count": null,
   "metadata": {},
   "outputs": [],
   "source": []
  },
  {
   "cell_type": "markdown",
   "metadata": {},
   "source": [
    "## Proyecto 1: Criptografía"
   ]
  },
  {
   "cell_type": "markdown",
   "metadata": {},
   "source": [
    "Each algorithm is used for some goal; therefore, you need to compare only the ones that\n",
    "share such a goal. For example, if you want to compare hashing algorithms you compare\n",
    "the efficiency of SHA-2 and SHA-3 by using the same input testing vector.\n",
    "\n",
    "Following this idea, you need to create a table or a graph comparing the efficiency of these\n",
    "algorithms for the following operations:\n",
    "   Encryption\n",
    "   Decryption\n",
    "   Hashing\n",
    "   Signing\n",
    "   Verifying\n",
    "\n",
    "After the execution of your program, you should show the results for each operation. These\n",
    "should be presented using a visual component (i.e., a table, a graph). Coming back to the\n",
    "hashing example, after the execution of all hashing algorithms with all the hashing vectors,\n",
    "you could show a table similar to the following or a graph that can show your results.\n",
    "\n",
    "\n",
    "Chacha20 Key Size 256 bits\n",
    "AES-EBC Key Size 256 bits\n",
    "AES-GCM Key size 256 bits\n",
    "SHA-2 Hash size 512 bits\n",
    "SHA-3 Hash size 512 bits\n",
    "Scrypt Output size 32 bits\n",
    "RSA-OAEP 2048 bits\n",
    "RSA-PSS 2048 bits\n",
    "ECDSA ECDSA, 521 Bits (P-521)\n",
    "EdDSA ECDSA, 32 Bits (Curve25519)"
   ]
  },
  {
   "cell_type": "code",
   "execution_count": 2,
   "metadata": {
    "scrolled": true
   },
   "outputs": [
    {
     "name": "stdout",
     "output_type": "stream",
     "text": [
      "Collecting pycryptodomex\n",
      "  Downloading pycryptodomex-3.17-cp35-abi3-win_amd64.whl (1.7 MB)\n",
      "Installing collected packages: pycryptodomex\n",
      "Successfully installed pycryptodomex-3.17\n",
      "Note: you may need to restart the kernel to use updated packages.\n"
     ]
    },
    {
     "name": "stderr",
     "output_type": "stream",
     "text": [
      "WARNING: You are using pip version 21.3.1; however, version 23.1.2 is available.\n",
      "You should consider upgrading via the 'c:\\users\\andre\\appdata\\local\\programs\\python\\python37\\python.exe -m pip install --upgrade pip' command.\n"
     ]
    }
   ],
   "source": [
    "pip install pycryptodomex"
   ]
  },
  {
   "cell_type": "code",
   "execution_count": 1,
   "metadata": {},
   "outputs": [
    {
     "name": "stdout",
     "output_type": "stream",
     "text": [
      "Requirement already satisfied: cryptography in c:\\users\\andre\\appdata\\local\\programs\\python\\python37\\lib\\site-packages (2.5)\n",
      "Requirement already satisfied: asn1crypto>=0.21.0 in c:\\users\\andre\\appdata\\local\\programs\\python\\python37\\lib\\site-packages (from cryptography) (0.24.0)\n",
      "Requirement already satisfied: cffi!=1.11.3,>=1.8 in c:\\users\\andre\\appdata\\local\\programs\\python\\python37\\lib\\site-packages (from cryptography) (1.11.5)\n",
      "Requirement already satisfied: six>=1.4.1 in c:\\users\\andre\\appdata\\local\\programs\\python\\python37\\lib\\site-packages (from cryptography) (1.14.0)\n",
      "Requirement already satisfied: pycparser in c:\\users\\andre\\appdata\\local\\programs\\python\\python37\\lib\\site-packages (from cffi!=1.11.3,>=1.8->cryptography) (2.19)\n",
      "Note: you may need to restart the kernel to use updated packages.\n"
     ]
    },
    {
     "name": "stderr",
     "output_type": "stream",
     "text": [
      "WARNING: You are using pip version 21.3.1; however, version 23.1.2 is available.\n",
      "You should consider upgrading via the 'c:\\users\\andre\\appdata\\local\\programs\\python\\python37\\python.exe -m pip install --upgrade pip' command.\n"
     ]
    }
   ],
   "source": [
    "pip install cryptography"
   ]
  },
  {
   "cell_type": "code",
   "execution_count": 4,
   "metadata": {},
   "outputs": [
    {
     "name": "stdout",
     "output_type": "stream",
     "text": [
      "Requirement already satisfied: pycryptodome in c:\\users\\andre\\appdata\\local\\programs\\python\\python37\\lib\\site-packages (3.10.1)\n",
      "Note: you may need to restart the kernel to use updated packages.\n"
     ]
    },
    {
     "name": "stderr",
     "output_type": "stream",
     "text": [
      "WARNING: You are using pip version 21.3.1; however, version 23.1.2 is available.\n",
      "You should consider upgrading via the 'c:\\users\\andre\\appdata\\local\\programs\\python\\python37\\python.exe -m pip install --upgrade pip' command.\n"
     ]
    }
   ],
   "source": [
    "pip install pycryptodome"
   ]
  },
  {
   "cell_type": "code",
   "execution_count": 5,
   "metadata": {},
   "outputs": [
    {
     "name": "stdout",
     "output_type": "stream",
     "text": [
      "Collecting pynacl\n",
      "  Downloading PyNaCl-1.5.0-cp36-abi3-win_amd64.whl (212 kB)\n",
      "Requirement already satisfied: cffi>=1.4.1 in c:\\users\\andre\\appdata\\local\\programs\\python\\python37\\lib\\site-packages (from pynacl) (1.11.5)\n",
      "Requirement already satisfied: pycparser in c:\\users\\andre\\appdata\\local\\programs\\python\\python37\\lib\\site-packages (from cffi>=1.4.1->pynacl) (2.19)\n",
      "Installing collected packages: pynacl\n",
      "Successfully installed pynacl-1.5.0\n",
      "Note: you may need to restart the kernel to use updated packages.\n"
     ]
    },
    {
     "name": "stderr",
     "output_type": "stream",
     "text": [
      "WARNING: You are using pip version 21.3.1; however, version 23.1.2 is available.\n",
      "You should consider upgrading via the 'c:\\users\\andre\\appdata\\local\\programs\\python\\python37\\python.exe -m pip install --upgrade pip' command.\n"
     ]
    }
   ],
   "source": [
    "pip install pynacl"
   ]
  },
  {
   "cell_type": "code",
   "execution_count": 2,
   "metadata": {},
   "outputs": [
    {
     "ename": "ModuleNotFoundError",
     "evalue": "No module named 'cryptography.hazmat.primitives.asymmetric.ed25519'",
     "output_type": "error",
     "traceback": [
      "\u001b[1;31m---------------------------------------------------------------------------\u001b[0m",
      "\u001b[1;31mModuleNotFoundError\u001b[0m                       Traceback (most recent call last)",
      "\u001b[1;32m~\\AppData\\Local\\Temp/ipykernel_17536/418069992.py\u001b[0m in \u001b[0;36m<module>\u001b[1;34m\u001b[0m\n\u001b[0;32m     12\u001b[0m \u001b[1;32mfrom\u001b[0m \u001b[0mnacl\u001b[0m\u001b[1;33m.\u001b[0m\u001b[0mencoding\u001b[0m \u001b[1;32mimport\u001b[0m \u001b[0mHexEncoder\u001b[0m\u001b[1;33m\u001b[0m\u001b[0m\n\u001b[0;32m     13\u001b[0m \u001b[1;32mfrom\u001b[0m \u001b[0mnacl\u001b[0m\u001b[1;33m.\u001b[0m\u001b[0msigning\u001b[0m \u001b[1;32mimport\u001b[0m \u001b[0mSigningKey\u001b[0m\u001b[1;33m\u001b[0m\u001b[0m\n\u001b[1;32m---> 14\u001b[1;33m \u001b[1;32mfrom\u001b[0m \u001b[0mcryptography\u001b[0m\u001b[1;33m.\u001b[0m\u001b[0mhazmat\u001b[0m\u001b[1;33m.\u001b[0m\u001b[0mprimitives\u001b[0m\u001b[1;33m.\u001b[0m\u001b[0masymmetric\u001b[0m\u001b[1;33m.\u001b[0m\u001b[0med25519\u001b[0m \u001b[1;32mimport\u001b[0m \u001b[1;33m(\u001b[0m\u001b[0mEd25519PrivateKey\u001b[0m\u001b[1;33m,\u001b[0m \u001b[0mEd25519PublicKey\u001b[0m\u001b[1;33m)\u001b[0m\u001b[1;31m#Para EdDSA\u001b[0m\u001b[1;33m\u001b[0m\u001b[0m\n\u001b[0m\u001b[0;32m     15\u001b[0m \u001b[1;32mfrom\u001b[0m \u001b[0msqlalchemy\u001b[0m\u001b[1;33m.\u001b[0m\u001b[0msql\u001b[0m\u001b[1;33m.\u001b[0m\u001b[0msqltypes\u001b[0m \u001b[1;32mimport\u001b[0m \u001b[0mTime\u001b[0m\u001b[1;33m\u001b[0m\u001b[0m\n\u001b[0;32m     16\u001b[0m \u001b[1;32mfrom\u001b[0m \u001b[0mCrypto\u001b[0m\u001b[1;33m.\u001b[0m\u001b[0mHash\u001b[0m \u001b[1;32mimport\u001b[0m \u001b[0mSHA512\u001b[0m\u001b[1;33m\u001b[0m\u001b[0m\n",
      "\u001b[1;31mModuleNotFoundError\u001b[0m: No module named 'cryptography.hazmat.primitives.asymmetric.ed25519'"
     ]
    }
   ],
   "source": [
    "import hashlib\n",
    "import hmac\n",
    "import base64\n",
    "from Cryptodome.Cipher import AES, ChaCha20\n",
    "from Cryptodome.Hash import SHA256, SHA512, SHA3_512\n",
    "from Cryptodome.Protocol.KDF import scrypt\n",
    "from Cryptodome.PublicKey import RSA\n",
    "from Cryptodome.Signature import pkcs1_15\n",
    "from cryptography.hazmat.primitives.asymmetric import ec, rsa, padding\n",
    "from cryptography.hazmat.primitives import hashes, serialization\n",
    "from cryptography.hazmat.backends import default_backend\n",
    "from nacl.encoding import HexEncoder\n",
    "from nacl.signing import SigningKey\n",
    "from cryptography.hazmat.primitives.asymmetric.ed25519 import (Ed25519PrivateKey, Ed25519PublicKey)#Para EdDSA\n",
    "from sqlalchemy.sql.sqltypes import Time\n",
    "from Crypto.Hash import SHA512"
   ]
  },
  {
   "cell_type": "code",
   "execution_count": 13,
   "metadata": {},
   "outputs": [
    {
     "ename": "ModuleNotFoundError",
     "evalue": "No module named 'cryptography.hazmat.primitives.asymmetric.ed25519'",
     "output_type": "error",
     "traceback": [
      "\u001b[1;31m---------------------------------------------------------------------------\u001b[0m",
      "\u001b[1;31mModuleNotFoundError\u001b[0m                       Traceback (most recent call last)",
      "\u001b[1;32m~\\AppData\\Local\\Temp/ipykernel_4660/3841030499.py\u001b[0m in \u001b[0;36m<module>\u001b[1;34m\u001b[0m\n\u001b[0;32m     17\u001b[0m \u001b[1;32mfrom\u001b[0m \u001b[0mcryptography\u001b[0m\u001b[1;33m.\u001b[0m\u001b[0mhazmat\u001b[0m\u001b[1;33m.\u001b[0m\u001b[0mprimitives\u001b[0m\u001b[1;33m.\u001b[0m\u001b[0masymmetric\u001b[0m \u001b[1;32mimport\u001b[0m \u001b[0mec\u001b[0m \u001b[1;31m#Para las curvas elípticas\u001b[0m\u001b[1;33m\u001b[0m\u001b[0m\n\u001b[0;32m     18\u001b[0m \u001b[1;32mfrom\u001b[0m \u001b[0mcryptography\u001b[0m\u001b[1;33m.\u001b[0m\u001b[0mhazmat\u001b[0m\u001b[1;33m.\u001b[0m\u001b[0mprimitives\u001b[0m\u001b[1;33m.\u001b[0m\u001b[0masymmetric\u001b[0m \u001b[1;32mimport\u001b[0m \u001b[0mutils\u001b[0m\u001b[1;33m\u001b[0m\u001b[0m\n\u001b[1;32m---> 19\u001b[1;33m \u001b[1;32mfrom\u001b[0m \u001b[0mcryptography\u001b[0m\u001b[1;33m.\u001b[0m\u001b[0mhazmat\u001b[0m\u001b[1;33m.\u001b[0m\u001b[0mprimitives\u001b[0m\u001b[1;33m.\u001b[0m\u001b[0masymmetric\u001b[0m\u001b[1;33m.\u001b[0m\u001b[0med25519\u001b[0m \u001b[1;32mimport\u001b[0m \u001b[1;33m(\u001b[0m\u001b[0mEd25519PrivateKey\u001b[0m\u001b[1;33m,\u001b[0m \u001b[0mEd25519PublicKey\u001b[0m\u001b[1;33m)\u001b[0m\u001b[1;31m#Para EdDSA\u001b[0m\u001b[1;33m\u001b[0m\u001b[0m\n\u001b[0m\u001b[0;32m     20\u001b[0m \u001b[1;32mfrom\u001b[0m \u001b[0msqlalchemy\u001b[0m\u001b[1;33m.\u001b[0m\u001b[0msql\u001b[0m\u001b[1;33m.\u001b[0m\u001b[0msqltypes\u001b[0m \u001b[1;32mimport\u001b[0m \u001b[0mTime\u001b[0m\u001b[1;33m\u001b[0m\u001b[0m\n",
      "\u001b[1;31mModuleNotFoundError\u001b[0m: No module named 'cryptography.hazmat.primitives.asymmetric.ed25519'"
     ]
    }
   ],
   "source": [
    "import pandas as pd\n",
    "import hashlib\n",
    "import numpy as np\n",
    "import matplotlib.pyplot as plt\n",
    "import math\n",
    "import seaborn as sns\n",
    "\n",
    "import timeit\n",
    "import os #importante para las instrucciones de sistema operativo\n",
    "from cryptography.hazmat.primitives.ciphers import Cipher, algorithms, modes #importante para usar los algoritmos de cifrado simetricos y escoger los modos\n",
    "from cryptography.hazmat.primitives.ciphers.aead import AESGCM #para el uso de AES-GCM\n",
    "from cryptography.hazmat.primitives.asymmetric import rsa #Para RSA\n",
    "from cryptography.hazmat.primitives.asymmetric import padding #Necesario para poder utilizar el modo OAEP de RSA\n",
    "from cryptography.hazmat.primitives import serialization #Para serializar las llaves de RSA-OAEP\n",
    "from cryptography.hazmat.primitives import hashes #Para poder utilizar los hashes que requiere RSA-OAEP, y usar SHA-2 y SHA-3\n",
    "from cryptography.hazmat.primitives.kdf.scrypt import Scrypt #Como el import lo dice, es para el algoritmo Scrypt\n",
    "from cryptography.hazmat.primitives.asymmetric import ec #Para las curvas elípticas\n",
    "from cryptography.hazmat.primitives.asymmetric import utils\n",
    "from cryptography.hazmat.primitives.asymmetric.ed25519 import (Ed25519PrivateKey, Ed25519PublicKey)#Para EdDSA\n",
    "from sqlalchemy.sql.sqltypes import Time"
   ]
  },
  {
   "cell_type": "code",
   "execution_count": null,
   "metadata": {},
   "outputs": [],
   "source": []
  }
 ],
 "metadata": {
  "kernelspec": {
   "display_name": "Python 3 (ipykernel)",
   "language": "python",
   "name": "python3"
  },
  "language_info": {
   "codemirror_mode": {
    "name": "ipython",
    "version": 3
   },
   "file_extension": ".py",
   "mimetype": "text/x-python",
   "name": "python",
   "nbconvert_exporter": "python",
   "pygments_lexer": "ipython3",
   "version": "3.7.0"
  }
 },
 "nbformat": 4,
 "nbformat_minor": 2
}
